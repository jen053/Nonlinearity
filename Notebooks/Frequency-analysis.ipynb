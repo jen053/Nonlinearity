{
 "cells": [
  {
   "cell_type": "code",
   "execution_count": null,
   "metadata": {},
   "outputs": [],
   "source": [
    "import numpy as np\n",
    "import matplotlib.pyplot as plt"
   ]
  },
  {
   "cell_type": "code",
   "execution_count": null,
   "metadata": {},
   "outputs": [],
   "source": [
    "Wave_X = c1_array_float[9:]\n",
    "Wave_Y = c11_array_float[9:]\n",
    "Ini = Wave_X[0]\n",
    "end = Wave_X[-1]\n",
    "\n",
    "# Frequencies = [40.e3]\n",
    "# F_High_range = [50.e3,100.e3,150.e3,200.e3,300.e3,350.e3]\n",
    "# F_Low_range = [89.e3, 91.e3, 85.e3, 95.e3, 1.e3, 100.e3]\n",
    "main_paras = [float(35e3), 3, 4] # main_ paras: [smoth order, yf_padded[peaks]/?, ?*2*np.std(Choosen_points)]\n",
    "y_min1 = -2.5\n",
    "y_max1 = 2.5\n",
    "y_min2 = -80\n",
    "y_max2 = 80"
   ]
  },
  {
   "cell_type": "code",
   "execution_count": null,
   "metadata": {},
   "outputs": [],
   "source": [
    "# do not change anything in this box. produces igore resulrs\n",
    "sampling_rate = 1e-6 # s or 0.25 micro seconds\n",
    "fs = 1 / sampling_rate  # unit is Hz\n",
    "N1 = end - Ini + 1 #60 #99-40+1=60 # Number of sample points or # of points used in fft (no unit)\n",
    "N2 = 2 * len(Wave_X) #120 # 160-40=120\n",
    "T = fs / N1 # sample spacing or frequency resolution, unit is Hz\n",
    "T_padded = fs / N2"
   ]
  },
  {
   "cell_type": "code",
   "execution_count": null,
   "metadata": {},
   "outputs": [],
   "source": [
    "############## extra info.\n",
    "f_max = (fs / 2) # unit is Hz\n",
    "nyquist_freq = 0.5 * (1 / sampling_rate)  # nyquist_freq= 0.5 * sampling frequency (unit is Hz)\n",
    "#print 'Nyquist frequency =', nyquist_freq / float(1e+6), '(MHz)'"
   ]
  },
  {
   "cell_type": "code",
   "execution_count": null,
   "metadata": {},
   "outputs": [],
   "source": [
    "Y_Smoothed = butter_lowpass_filter(Wave_Y,main_paras[0],fs,2)\n",
    "# Y_Smoothed = savgol_filter(Wave_Y, main_paras[0], 2) # 91,1(array, window size, polynomial order), cut part of the fft\n",
    "#results and shows that part that is inside the window\n",
    "\n",
    "Y_Subtract = Wave_Y - Y_Smoothed  #len(Wave_Y)=#len(Y_Smoothed)=len(Y_Subtract)=len(Wave_X)=60\n",
    "window = signal.hanning(len(Wave_X))\n",
    "y_tapered = window * Y_Subtract\n",
    "padded_y = np.pad(y_tapered, (0,len(Wave_X)), ‘constant’) #(0,60)\n",
    "New_x = np.linspace(Ini, end+len(Wave_X), 2*len(Wave_X)) #(40,99+60),(2*60)\n",
    "yf = 2./N1*np.abs(fftshift(fft(Y_Subtract))) #N1=60\n",
    "xf = np.arange(-fs/2., fs/2., T) # (unit is Hz)\n",
    "yf_tappered = 2./N1*np.abs(fftshift(fft(y_tapered)))\n",
    "yf_padded = 2./N2*np.abs(fftshift(fft(padded_y)))\n",
    "xf_padded = np.arange(-fs/2., fs/2., T_padded)"
   ]
  },
  {
   "cell_type": "code",
   "execution_count": null,
   "metadata": {},
   "outputs": [],
   "source": [
    "Fig1 = plt.figure(figsize=(14, 10))\n",
    "plt.subplot(2, 2, 1)\n",
    "plt.plot(Wave_X, Wave_Y, 'k', label='Actual data')\n",
    "plt.plot(Wave_X, Y_Smoothed,'tab:red', linewidth=2, label='Smoothed data')\n",
    "plt.plot(Wave_X, Y_Subtract, linewidth=2, label='Subtracted data')\n",
    "plt.plot(Wave_X, y_tapered, linewidth=3, label='Hanning data')\n",
    "plt.plot(New_x, padded_y, linewidth=2, label='Padded data')\n",
    "plt.xlabel('Phase Delay ($\\mu$s)', fontsize=16)\n",
    "# plt.ylabel(‘Delay (ns)‘,fontsize=16)\n",
    "#plt.title(Name_Plot,fontweight=“bold”)\n",
    "#plt.title(Date+‘:’+ Name_Plot)#,fontweight=“bold”)\n",
    "plt.legend()\n",
    "plt.grid()\n",
    "plt.subplot(2, 2, 2)\n",
    "# plt.plot(xf / 1000.0, yf, 'o-', label='Subtracted data')\n",
    "# plt.plot(xf / 1000.0, yf_tappered, 'o-', label='Tapper data')\n",
    "plt.plot(xf_padded / 1000.0, yf_padded, 'o-', label='Padded data')\n",
    "plt.xlabel('Frequency (kHz)', fontsize=16)\n",
    "plt.ylabel('FFT', fontsize=16)\n",
    "plt.grid(b=True, which='both')\n",
    "# plt.ylim(0,0.5)\n",
    "plt.minorticks_on()\n",
    "plt.legend()"
   ]
  },
  {
   "cell_type": "code",
   "execution_count": null,
   "metadata": {},
   "outputs": [],
   "source": [
    "peaks, extra = find_peaks(yf_padded)\n",
    "main_paras = [float(35e3), 1.5, 4]\n",
    "# print max(yf_padded[peaks]/main_paras[1]) #3\n",
    "Choosen_points = [i for i in yf_padded if i < max(yf_padded[peaks] / main_paras[1])]\n",
    "peak_min_hieght = main_paras[2] * np.std(Choosen_points)\n",
    "peak_max_hieght = 10\n",
    "peaks2, extra2 = find_peaks(yf_padded, height=(peak_min_hieght, peak_max_hieght ))\n",
    "#mean of BL, std of BL, max peak, std of BL/max peak, max peak/mean of BL\n",
    "# std_related =np.round([np.mean(Choosen_points),np.std(Choosen_points),max(yf_padded[peaks]),\n",
    "#                        np.std(Choosen_points)/max(yf_padded[peaks]),\n",
    "#                        max(yf_padded[peaks])/np.mean(Choosen_points)],3)\n",
    "std_related =np.round([np.mean(yf_padded), np.std(yf_padded), max(yf_padded[peaks]), np.std(yf_padded)/ max(yf_padded[peaks]), \n",
    "                       max(yf_padded[peaks]) / np.mean(yf_padded)], 3)\n",
    "print('std_related:', [std_related[0], std_related[1], std_related[2], std_related[3], std_related[4], \n",
    "                       main_paras[0], main_paras[1]])\n",
    "print('******************************')\n",
    "print('mean of BL:', std_related[0])\n",
    "print('std of BL:', std_related[1])\n",
    "print('max peak:', std_related[2], 'max peak/3:', std_related[2] / main_paras[1])\n",
    "print('std of BL/max peak:', std_related[3])\n",
    "print('max peak/mean of BL:', std_related[4])\n",
    "print('******************************')\n",
    "\n",
    "freq= []\n",
    "for num in xf_padded[peaks2]:\n",
    "    if num >= 0:\n",
    "        freq.append(np.round(num / 1000, 2))\n",
    "print('freq are:', freq)\n",
    "\n",
    "height = []\n",
    "for i in range((len(yf_padded[peaks2]) / 2), len(yf_padded[peaks2])):\n",
    "      height.append(np.round(yf_padded[peaks2][i], 3))\n",
    "print('height are:', height)\n",
    "\n",
    "Name = 'C11'\n",
    "figname = Name + '.png'\n",
    "plt.savefig(“/Users/Somayeh/Dropbox/PDF_Results/SKT2_PDF/“+figname,bbox_inches=‘tight’,dpi=400)"
   ]
  }
 ],
 "metadata": {
  "kernelspec": {
   "display_name": "Python 3",
   "language": "python",
   "name": "python3"
  },
  "language_info": {
   "codemirror_mode": {
    "name": "ipython",
    "version": 3
   },
   "file_extension": ".py",
   "mimetype": "text/x-python",
   "name": "python",
   "nbconvert_exporter": "python",
   "pygments_lexer": "ipython3",
   "version": "3.7.6"
  }
 },
 "nbformat": 4,
 "nbformat_minor": 4
}
