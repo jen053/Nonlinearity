{
 "cells": [
  {
   "cell_type": "code",
   "execution_count": 7,
   "metadata": {},
   "outputs": [],
   "source": [
    "from numpy import *\n",
    "from pylab import *\n",
    "import string\n",
    "\n",
    "from datetime import date\n",
    "import imp\n",
    "AgilentSCPI=imp.load_source('AgilentSCPI','c:/Users/Jacob/Nonlinearity/Codes/AgilentSCPI.py')\n",
    "#from 'c:/Users/Jacob/Nonlinearity/Codes/' import AgilentSCPI\n",
    "import time\n",
    "import numpy as np\n",
    "import sys\n",
    "import matplotlib.pyplot as plt\n",
    "import time"
   ]
  },
  {
   "cell_type": "code",
   "execution_count": 9,
   "metadata": {},
   "outputs": [
    {
     "name": "stdout",
     "output_type": "stream",
     "text": [
      "8.192\n"
     ]
    }
   ],
   "source": [
    "delayvec=np.arange(0,100,1)\n",
    "n_aves=4096\n",
    "t_delay=n_aves*2e-3 #2 ms between pulses\n",
    "\n",
    "\n",
    "#addtodelay=45 #sample 2; or 1 and 2\n",
    "#addtodelay=43.5 #sample 3; or 1 and or 2\n",
    "addtodelay=48 #sampleA_COS; or 1 and or 2\n",
    "\n",
    "\n",
    "print(t_delay)\n",
    "fname_root=\"c:/Users/Jacob/Nonlinearity/Data/SampleB/2020-09-14/\"\n",
    "AMP=[10.0]\n",
    "Ntrials=10"
   ]
  },
  {
   "cell_type": "code",
   "execution_count": 10,
   "metadata": {},
   "outputs": [],
   "source": [
    "class timedata:\n",
    "\n",
    "    def __init__(self, name):\n",
    "        self.name = name\n",
    "        self.time = np.array    # creates a new empty list\n",
    "        self.data = np.array    # creates a new empty list\n"
   ]
  },
  {
   "cell_type": "code",
   "execution_count": 11,
   "metadata": {},
   "outputs": [],
   "source": [
    "def readlabdat(fname,dataset):\n",
    "# read in data from the scope and make a matrix of values from it\n",
    "    \n",
    "    \n",
    "    f = open(fname,'r')\n",
    "    #header1=f.readline()\n",
    "    #header2=f.readline()\n",
    "    tmp1=[]\n",
    "    tmp2=[]\n",
    "    \n",
    "    for line in f:\n",
    "        columns = line.split(',')\n",
    "        tmp1.append(float(columns[0]))\n",
    "        tmp2.append(float(columns[1]))\n",
    "\n",
    "    dataset.time=np.asarray(tmp1)\n",
    "    dataset.data=np.asarray(tmp2)\n",
    "    f.close()\n",
    "        "
   ]
  },
  {
   "cell_type": "code",
   "execution_count": 13,
   "metadata": {},
   "outputs": [],
   "source": [
    "# read data from oscilloscope and save to file\n",
    "def saveWave(filename,chs,npts='MAXIMUM'):\n",
    "    for ch in chs:\n",
    "        p1,x1 = osc.OscRead2Numpy(ch,npts)\n",
    "        if 'data' in locals():\n",
    "            data = vstack((data,x1))\n",
    "        else:\n",
    "            data = x1\n",
    "            \n",
    "    \n",
    "    t = arange(len(x1))*p1[4] + p1[5]\n",
    "    data = vstack((t,data)).T\n",
    "    savetxt(filename, data, fmt=\"%12.6G\", delimiter=',')\n",
    "    print(shape(data), \"data points saved to \"+filename)"
   ]
  },
  {
   "cell_type": "markdown",
   "metadata": {},
   "source": [
    "Setup Function Generator"
   ]
  },
  {
   "cell_type": "code",
   "execution_count": null,
   "metadata": {},
   "outputs": [],
   "source": [
    "funcgen = AgilentSCPI.SCPI(\"134.153.36.84\")\n",
    "q=funcgen.query('*IDN?\\n')\n",
    "print q\n",
    "setupFile=\"STATE_COSJ20\"\n",
    "cmd = \":MMEMory:LOAD:STATe 'INT:\\\\\"+setupFile+\"'\\n\"\n",
    "funcgen.s.send(cmd)\n",
    "# funcgen.s.send(\":SOUR2:VOLT\"+\" \"+str(AMP[0])+\"\\n\")\n",
    "# funcgen.s.send(\":SOUR1:VOLT\"+\" 5.0\"+\"\\n\")\n",
    "#this sets up the amplitudes and frequency of the pump (on channel 2) and probe (on channel 1)\n",
    "funcgen.s.send(\":SOUR2:VOLT\"+\" \"+str(AMP[0])+\"\\n\")\n",
    "funcgen.s.send(\":SOUR2:FREQ\"+\" \"+str(50000)+\"\\n\")\n",
    "\n",
    "funcgen.s.send(\":SOUR1:VOLT\"+\" \"+str(1)+\"\\n\")\n",
    "funcgen.s.send(\":SOUR1:FREQ\"+\" \"+str(500000)+\"\\n\")"
   ]
  },
  {
   "cell_type": "markdown",
   "metadata": {},
   "source": [
    "Setup Oscilloscope"
   ]
  },
  {
   "cell_type": "code",
   "execution_count": null,
   "metadata": {},
   "outputs": [],
   "source": [
    "osc = AgilentSCPI.SCPI(\"134.153.36.86\")\n",
    "q2=osc.query('*IDN?\\n')\n",
    "print q2\n",
    "osc.reset()\n",
    "osc.s.send(\":TRIGger:EDGE:SOURCe EXTernal\\n\")\n",
    "osc.s.send(\":TRIGger:EDGE:LEVel 5.0\\n\")\n",
    "osc.s.send(\":TRIGger:EDGE:SLOPe POSitive\\n\")\n",
    "osc.s.send(\":TIM:REF LEFT\\n\")\n",
    "osc.s.send(\":TIM:DEL \"+ str(addtodelay)+\"us\\n\")\n",
    "osc.s.send(\":TIM:SCAL 1.0us\\n\")  #time scale \n",
    "osc.s.send(\":CHANnel1:SCALe 0.01\\n\") # Vertical axis limit of probe \n",
    "osc.s.send(\":CHANnel2:SCALe 20\\n\") #Vertical axis limit of pump\n",
    "osc.s.send(\":ACQuire:TYPE AVERage\\n\")\n",
    "osc.s.send(\":ACQuire:COUNt 4096\\n\")\n",
    "#fname=fname_root+\"junk.csv\"\n",
    "#saveWave(fname,[1])\n",
    "\n",
    "#Do not put anything in this box below the current line\n",
    "# addtodelay_=48\n",
    "# delay_=1\n",
    "# cmd_=\":TRIG:DEL \"+str(delay_)+\"us\\n\"\n",
    "# funcgen.s.send(cmd_)\n",
    "# funcgen.s.send(\":SOUR1:VOLT\"+\" \"+str(5)+\"\\n\") #*****\n",
    "# funcgen.s.send(\":OUTP1 ON\\n\")#*****\n",
    "# funcgen.s.send(\":OUTP2 ON\\n\") #*****\n",
    "# osc.s.send(\":TIM:DEL \"+ str(addtodelay_+delay_)+\"us\\n\")#*****"
   ]
  },
  {
   "cell_type": "code",
   "execution_count": null,
   "metadata": {},
   "outputs": [],
   "source": [
    "for itrial in range(Ntrials):\n",
    "    for ampval in AMP:\n",
    "        funcgen.s.send(\":SOUR2:VOLT\"+\" \"+str(ampval)+\"\\n\")\n",
    "        funcgen.s.send(\":OUTP1 ON\\n\")\n",
    "        funcgen.s.send(\":OUTP2 ON\\n\")\n",
    "        cmd=\":TRIG:DEL \"+str(0)+\"us\\n\"\n",
    "        funcgen.s.send(cmd)\n",
    "        fname_root_add=fname_root+\"Trial\"+str(itrial+1)+\"/\"+str(ampval)+\"V/\"\n",
    "        fname=fname_root_add+str(\"STrans_B4.csv\")\n",
    "        osc.s.send(\":TIM:REF LEFT\\n\")\n",
    "        osc.s.send(\":TIM:SCAL 20us\\n\")\n",
    "        osc.s.send(\":TIM:DEL 30us\\n\")\n",
    "        osc.s.send(\"CHANnel2:SCALe 25\\n\")\n",
    "        saveWave(fname,[2])\n",
    "        osc.s.send(\":TIM:SCAL 1.0us\\n\")\n",
    "        scaldel=1\n",
    "        for delay in delayvec:\n",
    "            #set delay\n",
    "#            cmd=\":TRIG2:DEL \"+str(delay)+\"us\\n\"\n",
    "            cmd=\":TRIG:DEL \"+str(delay)+\"us\\n\"\n",
    "            funcgen.s.send(cmd)\n",
    "    \n",
    "            osc.s.send(\":TIM:DEL \"+ str(addtodelay+delay)+\"us\\n\")\n",
    " #           osc.s.send(\":TIM:DEL \"+ str(addtodelay)+\"us\\n\")\n",
    "\n",
    "            #record probe only\n",
    "            funcgen.s.send(\":OUTP1 ON\\n\") #probe on\n",
    "            funcgen.s.send(\":OUTP2 OFF\\n\") #PUMP off\n",
    "\n",
    "            time.sleep(t_delay)\n",
    "\n",
    "            fname=fname_root_add+\"pr\"+str(int(scaldel*delay))+\".csv\"\n",
    "            saveWave(fname,[1])\n",
    "\n",
    "            #record PUMP only\n",
    "            osc.s.send(\":TIM:DEL \"+ str(addtodelay+delay)+\"us\\n\")\n",
    "  #          osc.s.send(\":TIM:DEL \"+ str(addtodelay)+\"us\\n\")\n",
    "            funcgen.s.send(\":OUTP1 OFF\\n\") #probe on\n",
    "            funcgen.s.send(\":OUTP2 ON\\n\") #PUMP off\n",
    "            time.sleep(t_delay)\n",
    "\n",
    "            fname=fname_root_add+\"pu\"+str(int(scaldel*delay))+\".csv\"\n",
    "            saveWave(fname,[1])\n",
    "\n",
    "            #record PUMP and probe\n",
    "            osc.s.send(\":TIM:DEL \"+ str(addtodelay+delay)+\"us\\n\")\n",
    "            #osc.s.send(\":TIM:DEL \"+ str(addtodelay)+\"us\\n\")\n",
    "            funcgen.s.send(\":OUTP1 ON\\n\") #probe on\n",
    "            funcgen.s.send(\":OUTP2 ON\\n\") #PUMP off\n",
    "            time.sleep(t_delay)\n",
    "\n",
    "            fname=fname_root_add+\"pp\"+str(int(scaldel*delay))+\".csv\"\n",
    "            saveWave(fname,[1])\n",
    "\n",
    "funcgen.s.send(\":OUTP1 OFF\\n\")\n",
    "funcgen.s.send(\":OUTP2 OFF\\n\")"
   ]
  },
  {
   "cell_type": "code",
   "execution_count": null,
   "metadata": {},
   "outputs": [],
   "source": [
    "cmd=\":TRIG2:DEL \"+str(delay)+\"us\\n\"\n",
    "funcgen.s.send(cmd)"
   ]
  },
  {
   "cell_type": "code",
   "execution_count": null,
   "metadata": {},
   "outputs": [],
   "source": []
  },
  {
   "cell_type": "code",
   "execution_count": null,
   "metadata": {},
   "outputs": [],
   "source": []
  }
 ],
 "metadata": {
  "anaconda-cloud": {},
  "kernelspec": {
   "display_name": "Python 3",
   "language": "python",
   "name": "python3"
  },
  "language_info": {
   "codemirror_mode": {
    "name": "ipython",
    "version": 3
   },
   "file_extension": ".py",
   "mimetype": "text/x-python",
   "name": "python",
   "nbconvert_exporter": "python",
   "pygments_lexer": "ipython3",
   "version": "3.7.6"
  }
 },
 "nbformat": 4,
 "nbformat_minor": 1
}
