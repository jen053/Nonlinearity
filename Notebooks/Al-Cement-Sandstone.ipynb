{
 "cells": [
  {
   "cell_type": "code",
   "execution_count": 6,
   "metadata": {},
   "outputs": [],
   "source": [
    "import pandas as pd\n",
    "import numpy as np\n",
    "import matplotlib\n",
    "import matplotlib.pyplot as plt\n",
    "from mpl_toolkits.mplot3d import Axes3D\n",
    "plt.rcParams[\"font.family\"] = \"Arial\"\n",
    "plt.rcParams[\"font.size\"] = 16\n",
    "from scipy import fftpack\n",
    "from scipy.ndimage import gaussian_filter\n",
    "from scipy import signal\n",
    "import scipy\n",
    "import warnings\n",
    "warnings.filterwarnings('ignore')"
   ]
  },
  {
   "cell_type": "code",
   "execution_count": 7,
   "metadata": {},
   "outputs": [],
   "source": [
    "dfo1hrun1 = pd.read_csv('../Data/Cement_sample/O1/delays-from-all-runs/Run1.txt', delimiter=' ' , dtype= np.float64)\n",
    "dfo1hrun2 = pd.read_csv('../Data/Cement_sample/O1/delays-from-all-runs/Run2.txt', delimiter=' ' , dtype= np.float64)\n",
    "dfo1hrun3 = pd.read_csv('../Data/Cement_sample/O1/delays-from-all-runs/Run3.txt', delimiter=' ' , dtype= np.float64)\n",
    "dfo1hrun4 = pd.read_csv('../Data/Cement_sample/O1/delays-from-all-runs/Run4.txt', delimiter=' ' , dtype= np.float64)"
   ]
  },
  {
   "cell_type": "code",
   "execution_count": 8,
   "metadata": {},
   "outputs": [],
   "source": [
    "dfO1h = pd.concat([dfo1hrun1['Delays'], dfo1hrun1['Time-delay1'], dfo1hrun2['Time-delay2'], dfo1hrun3['Time-delay3'], \n",
    "                  dfo1hrun4['Time-delay4']], axis=1)\n",
    "dfO1h = dfO1h.rename(columns={\"Time-delay1\": \"Run1\", \"Time-delay2\": \"Run2\", \"Time-delay3\": \"Run3\", \n",
    "                            \"Time-delay4\": \"Run4\"}, errors=\"raise\")\n",
    "\n",
    "dfO1h['mean'] = dfO1h.iloc[:, 1:].mean(axis=1)\n",
    "dfO1h['std'] = dfO1h.iloc[:, 1:].std(axis=1)"
   ]
  },
  {
   "cell_type": "code",
   "execution_count": 17,
   "metadata": {},
   "outputs": [
    {
     "data": {
      "text/html": [
       "<div>\n",
       "<style scoped>\n",
       "    .dataframe tbody tr th:only-of-type {\n",
       "        vertical-align: middle;\n",
       "    }\n",
       "\n",
       "    .dataframe tbody tr th {\n",
       "        vertical-align: top;\n",
       "    }\n",
       "\n",
       "    .dataframe thead th {\n",
       "        text-align: right;\n",
       "    }\n",
       "</style>\n",
       "<table border=\"1\" class=\"dataframe\">\n",
       "  <thead>\n",
       "    <tr style=\"text-align: right;\">\n",
       "      <th></th>\n",
       "      <th>Delays</th>\n",
       "      <th>Initial; O1</th>\n",
       "      <th>Initial; O2</th>\n",
       "      <th>Post; O1</th>\n",
       "      <th>Post; O2</th>\n",
       "    </tr>\n",
       "  </thead>\n",
       "  <tbody>\n",
       "    <tr>\n",
       "      <th>0</th>\n",
       "      <td>0.0</td>\n",
       "      <td>0.191771</td>\n",
       "      <td>-2.468272</td>\n",
       "      <td>-0.296883</td>\n",
       "      <td>-3.160742</td>\n",
       "    </tr>\n",
       "    <tr>\n",
       "      <th>1</th>\n",
       "      <td>1.0</td>\n",
       "      <td>0.817791</td>\n",
       "      <td>-1.803474</td>\n",
       "      <td>0.202592</td>\n",
       "      <td>-2.147649</td>\n",
       "    </tr>\n",
       "    <tr>\n",
       "      <th>2</th>\n",
       "      <td>2.0</td>\n",
       "      <td>2.275839</td>\n",
       "      <td>-1.461645</td>\n",
       "      <td>0.317682</td>\n",
       "      <td>-1.648753</td>\n",
       "    </tr>\n",
       "    <tr>\n",
       "      <th>3</th>\n",
       "      <td>3.0</td>\n",
       "      <td>1.437710</td>\n",
       "      <td>-2.561889</td>\n",
       "      <td>1.396451</td>\n",
       "      <td>-1.240646</td>\n",
       "    </tr>\n",
       "    <tr>\n",
       "      <th>4</th>\n",
       "      <td>4.0</td>\n",
       "      <td>1.555720</td>\n",
       "      <td>-1.059172</td>\n",
       "      <td>0.638579</td>\n",
       "      <td>-0.752634</td>\n",
       "    </tr>\n",
       "    <tr>\n",
       "      <th>...</th>\n",
       "      <td>...</td>\n",
       "      <td>...</td>\n",
       "      <td>...</td>\n",
       "      <td>...</td>\n",
       "      <td>...</td>\n",
       "    </tr>\n",
       "    <tr>\n",
       "      <th>95</th>\n",
       "      <td>95.0</td>\n",
       "      <td>6.502014</td>\n",
       "      <td>5.539523</td>\n",
       "      <td>6.123060</td>\n",
       "      <td>6.465671</td>\n",
       "    </tr>\n",
       "    <tr>\n",
       "      <th>96</th>\n",
       "      <td>96.0</td>\n",
       "      <td>6.334628</td>\n",
       "      <td>5.075840</td>\n",
       "      <td>6.174341</td>\n",
       "      <td>6.714223</td>\n",
       "    </tr>\n",
       "    <tr>\n",
       "      <th>97</th>\n",
       "      <td>97.0</td>\n",
       "      <td>6.202889</td>\n",
       "      <td>4.928840</td>\n",
       "      <td>5.793332</td>\n",
       "      <td>6.351508</td>\n",
       "    </tr>\n",
       "    <tr>\n",
       "      <th>98</th>\n",
       "      <td>98.0</td>\n",
       "      <td>6.420945</td>\n",
       "      <td>4.508787</td>\n",
       "      <td>5.724948</td>\n",
       "      <td>6.381590</td>\n",
       "    </tr>\n",
       "    <tr>\n",
       "      <th>99</th>\n",
       "      <td>99.0</td>\n",
       "      <td>NaN</td>\n",
       "      <td>4.571539</td>\n",
       "      <td>5.626399</td>\n",
       "      <td>NaN</td>\n",
       "    </tr>\n",
       "  </tbody>\n",
       "</table>\n",
       "<p>100 rows × 5 columns</p>\n",
       "</div>"
      ],
      "text/plain": [
       "    Delays  Initial; O1  Initial; O2  Post; O1  Post; O2\n",
       "0      0.0     0.191771    -2.468272 -0.296883 -3.160742\n",
       "1      1.0     0.817791    -1.803474  0.202592 -2.147649\n",
       "2      2.0     2.275839    -1.461645  0.317682 -1.648753\n",
       "3      3.0     1.437710    -2.561889  1.396451 -1.240646\n",
       "4      4.0     1.555720    -1.059172  0.638579 -0.752634\n",
       "..     ...          ...          ...       ...       ...\n",
       "95    95.0     6.502014     5.539523  6.123060  6.465671\n",
       "96    96.0     6.334628     5.075840  6.174341  6.714223\n",
       "97    97.0     6.202889     4.928840  5.793332  6.351508\n",
       "98    98.0     6.420945     4.508787  5.724948  6.381590\n",
       "99    99.0          NaN     4.571539  5.626399       NaN\n",
       "\n",
       "[100 rows x 5 columns]"
      ]
     },
     "execution_count": 17,
     "metadata": {},
     "output_type": "execute_result"
    }
   ],
   "source": [
    "# Initial Data import\n",
    "path = 'c:/Users/Jacob/Nonlinearity/Data/'\n",
    "\n",
    "dfO1_i = pd.read_csv(path+'NS5/Initial/O1/2020-11-25/wiggles.txt', delimiter=' ', header=None, names=\n",
    "                     ['Time Delays 1'])\n",
    "dfO2_i = pd.read_csv(path+'NS5/Initial/O2/Run1.txt', delimiter=' ')\n",
    "\n",
    "# Fracture Data import\n",
    "dfO1_f = pd.read_csv(path+'NS5/Fracture/O1/2020-12-07/Trial1/10.0V/Delays.txt', delimiter=' ', header=None, names=\n",
    "                     ['Delays', 'Time Delays 1', 'Time Delays 2', 'Time Delays 3', 'Time Delays 4'])\n",
    "dfO2_f = pd.read_csv(path+'NS5/Fracture/O2/2020-12-07_02/Trial1/10.0V/Delays.txt', delimiter=' ', header=None, names=\n",
    "                     ['Time Delays 4'])\n",
    "\n",
    "# Concatinate all NS3 data in one data frame\n",
    "dfNS5 = pd.concat([dfO1_f['Delays'], dfO1_i['Time Delays 1'], dfO2_i['Time-delay2'], dfO1_f['Time Delays 3'], \n",
    "                  dfO2_f['Time Delays 4']], axis=1)\n",
    "dfNS5 = dfNS5.rename(columns={\"Time Delays 1\": \"Initial; O1\", \"Time-delay2\": \"Initial; O2\", \"Time Delays 3\": \"Post; O1\", \n",
    "                            \"Time Delays 4\": \"Post; O2\"}, errors=\"raise\")\n",
    "dfNS5"
   ]
  },
  {
   "cell_type": "code",
   "execution_count": 15,
   "metadata": {},
   "outputs": [],
   "source": [
    "dfO1_Al = pd.read_csv('c:/Users/Jacob/Nonlinearity/Data/Al/O1/delays-from-all-runs/run1.txt',\n",
    "                     delimiter=' ')\n",
    "dfO1_Al['Time-delay1'][:15] = dfO1_Al['Time-delay1'][15:30]\n"
   ]
  },
  {
   "cell_type": "code",
   "execution_count": 47,
   "metadata": {},
   "outputs": [
    {
     "data": {
      "image/png": "[encoded data removed]",
      "text/plain": [
       "<Figure size 864x288 with 1 Axes>"
      ]
     },
     "metadata": {
      "needs_background": "light"
     },
     "output_type": "display_data"
    }
   ],
   "source": [
    "plt.figure(figsize=(12,4))\n",
    "plt.plot(dfO1_Al['Delays'], dfO1_Al['Time-delay1'], 'k', label='Aluminum', linewidth=3)\n",
    "plt.plot(dfNS5['Delays'], dfNS5['Initial; O1'],'b', label='Sandstone', linewidth=3)\n",
    "plt.plot(dfO1h['Delays'], dfO1h['Run4'], 'r', label='Cement', linewidth=3)\n",
    "plt.xlabel('Transmission Delay [$\\mu$s]')\n",
    "plt.ylabel('Time Delay [ns]')\n",
    "plt.legend()\n",
    "plt.grid()\n",
    "# plt.savefig('c:/users/Jacob/Nonlinearity/Images/Set-up/Al-Cement-Sandstone.pdf', dpi=300, \n",
    "#             bbox_inches='tight', format='pdf')\n",
    "plt.show()"
   ]
  },
  {
   "cell_type": "code",
   "execution_count": null,
   "metadata": {},
   "outputs": [],
   "source": []
  }
 ],
 "metadata": {
  "kernelspec": {
   "display_name": "Python 3",
   "language": "python",
   "name": "python3"
  },
  "language_info": {
   "codemirror_mode": {
    "name": "ipython",
    "version": 3
   },
   "file_extension": ".py",
   "mimetype": "text/x-python",
   "name": "python",
   "nbconvert_exporter": "python",
   "pygments_lexer": "ipython3",
   "version": "3.7.6"
  }
 },
 "nbformat": 4,
 "nbformat_minor": 4
}
